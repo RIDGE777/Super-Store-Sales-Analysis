{
 "cells": [
  {
   "cell_type": "markdown",
   "id": "a91dca84",
   "metadata": {},
   "source": [
    "# Sales Analysis"
   ]
  },
  {
   "cell_type": "code",
   "execution_count": 2,
   "id": "34fbb7dc",
   "metadata": {},
   "outputs": [],
   "source": [
    "import pandas as pd\n",
    "import numpy as np\n",
    "import seaborn as sns\n",
    "import datetime \n",
    "import matplotlib.pyplot as plt"
   ]
  },
  {
   "cell_type": "code",
   "execution_count": 3,
   "id": "8f6caa6c",
   "metadata": {},
   "outputs": [],
   "source": [
    "# Import all monthl files into Jupyter Notebook\n",
    "\n",
    "file_location = 'C:\\\\Users\\\\ragir\\\\OneDrive\\\\Desktop\\\\DATA ANALYTICS\\\\Portfolio Projects\\\\Sales Analysis\\\\'\n",
    "\n",
    "df1 = pd.read_excel(file_location + 'Sales_January_2019.xlsx')\n",
    "df2 = pd.read_excel(file_location + 'Sales_February_2019.xlsx')\n",
    "df3 = pd.read_excel(file_location + 'Sales_March_2019.xlsx')\n",
    "df4 = pd.read_excel(file_location + 'Sales_April_2019.xlsx')\n",
    "df5 = pd.read_excel(file_location + 'Sales_May_2019.xlsx')\n",
    "df6 = pd.read_excel(file_location + 'Sales_June_2019.xlsx')\n",
    "df7 = pd.read_excel(file_location + 'Sales_July_2019.xlsx')\n",
    "df8 = pd.read_excel(file_location + 'Sales_August_2019.xlsx')\n",
    "df9 = pd.read_excel(file_location + 'Sales_September_2019.xlsx')\n",
    "df10 = pd.read_excel(file_location + 'Sales_October_2019.xlsx')\n",
    "df11 = pd.read_excel(file_location + 'Sales_November_2019.xlsx')\n",
    "df12 = pd.read_excel(file_location + 'Sales_December_2019.xlsx')"
   ]
  },
  {
   "cell_type": "code",
   "execution_count": 4,
   "id": "c64b7bad",
   "metadata": {},
   "outputs": [],
   "source": [
    "# Merging all the data\n",
    "\n",
    "sales_data = pd.concat([df1, df2, df3, df4, df5, df6, df7, df8, df9, df10, df11, df12], axis=0, ignore_index=True)"
   ]
  },
  {
   "cell_type": "code",
   "execution_count": 5,
   "id": "0ab6eed3",
   "metadata": {},
   "outputs": [
    {
     "data": {
      "text/html": [
       "<div>\n",
       "<style scoped>\n",
       "    .dataframe tbody tr th:only-of-type {\n",
       "        vertical-align: middle;\n",
       "    }\n",
       "\n",
       "    .dataframe tbody tr th {\n",
       "        vertical-align: top;\n",
       "    }\n",
       "\n",
       "    .dataframe thead th {\n",
       "        text-align: right;\n",
       "    }\n",
       "</style>\n",
       "<table border=\"1\" class=\"dataframe\">\n",
       "  <thead>\n",
       "    <tr style=\"text-align: right;\">\n",
       "      <th></th>\n",
       "      <th>Order ID</th>\n",
       "      <th>Product</th>\n",
       "      <th>Quantity Ordered</th>\n",
       "      <th>Price Each</th>\n",
       "      <th>Order Date</th>\n",
       "      <th>Purchase Address</th>\n",
       "    </tr>\n",
       "  </thead>\n",
       "  <tbody>\n",
       "    <tr>\n",
       "      <th>0</th>\n",
       "      <td>141234</td>\n",
       "      <td>iPhone</td>\n",
       "      <td>1</td>\n",
       "      <td>700</td>\n",
       "      <td>2019-01-22 21:25:00</td>\n",
       "      <td>944 Walnut St, Boston, MA 02215</td>\n",
       "    </tr>\n",
       "    <tr>\n",
       "      <th>1</th>\n",
       "      <td>141235</td>\n",
       "      <td>Lightning Charging Cable</td>\n",
       "      <td>1</td>\n",
       "      <td>14.95</td>\n",
       "      <td>2019-01-28 14:15:00</td>\n",
       "      <td>185 Maple St, Portland, OR 97035</td>\n",
       "    </tr>\n",
       "    <tr>\n",
       "      <th>2</th>\n",
       "      <td>141236</td>\n",
       "      <td>Wired Headphones</td>\n",
       "      <td>2</td>\n",
       "      <td>11.99</td>\n",
       "      <td>2019-01-17 13:33:00</td>\n",
       "      <td>538 Adams St, San Francisco, CA 94016</td>\n",
       "    </tr>\n",
       "    <tr>\n",
       "      <th>3</th>\n",
       "      <td>141237</td>\n",
       "      <td>27in FHD Monitor</td>\n",
       "      <td>1</td>\n",
       "      <td>149.99</td>\n",
       "      <td>2019-01-05 20:33:00</td>\n",
       "      <td>738 10th St, Los Angeles, CA 90001</td>\n",
       "    </tr>\n",
       "    <tr>\n",
       "      <th>4</th>\n",
       "      <td>141238</td>\n",
       "      <td>Wired Headphones</td>\n",
       "      <td>1</td>\n",
       "      <td>11.99</td>\n",
       "      <td>2019-01-25 11:59:00</td>\n",
       "      <td>387 10th St, Austin, TX 73301</td>\n",
       "    </tr>\n",
       "  </tbody>\n",
       "</table>\n",
       "</div>"
      ],
      "text/plain": [
       "  Order ID                   Product Quantity Ordered Price Each  \\\n",
       "0   141234                    iPhone                1        700   \n",
       "1   141235  Lightning Charging Cable                1      14.95   \n",
       "2   141236          Wired Headphones                2      11.99   \n",
       "3   141237          27in FHD Monitor                1     149.99   \n",
       "4   141238          Wired Headphones                1      11.99   \n",
       "\n",
       "            Order Date                       Purchase Address  \n",
       "0  2019-01-22 21:25:00        944 Walnut St, Boston, MA 02215  \n",
       "1  2019-01-28 14:15:00       185 Maple St, Portland, OR 97035  \n",
       "2  2019-01-17 13:33:00  538 Adams St, San Francisco, CA 94016  \n",
       "3  2019-01-05 20:33:00     738 10th St, Los Angeles, CA 90001  \n",
       "4  2019-01-25 11:59:00          387 10th St, Austin, TX 73301  "
      ]
     },
     "execution_count": 5,
     "metadata": {},
     "output_type": "execute_result"
    }
   ],
   "source": [
    "# View the top 5 of the merged data\n",
    "\n",
    "sales_data.head()"
   ]
  },
  {
   "cell_type": "code",
   "execution_count": 6,
   "id": "3ae78633",
   "metadata": {},
   "outputs": [
    {
     "data": {
      "text/html": [
       "<div>\n",
       "<style scoped>\n",
       "    .dataframe tbody tr th:only-of-type {\n",
       "        vertical-align: middle;\n",
       "    }\n",
       "\n",
       "    .dataframe tbody tr th {\n",
       "        vertical-align: top;\n",
       "    }\n",
       "\n",
       "    .dataframe thead th {\n",
       "        text-align: right;\n",
       "    }\n",
       "</style>\n",
       "<table border=\"1\" class=\"dataframe\">\n",
       "  <thead>\n",
       "    <tr style=\"text-align: right;\">\n",
       "      <th></th>\n",
       "      <th>Order ID</th>\n",
       "      <th>Product</th>\n",
       "      <th>Quantity Ordered</th>\n",
       "      <th>Price Each</th>\n",
       "      <th>Order Date</th>\n",
       "      <th>Purchase Address</th>\n",
       "    </tr>\n",
       "  </thead>\n",
       "  <tbody>\n",
       "    <tr>\n",
       "      <th>186844</th>\n",
       "      <td>319666</td>\n",
       "      <td>Lightning Charging Cable</td>\n",
       "      <td>1</td>\n",
       "      <td>14.95</td>\n",
       "      <td>2019-12-11 20:58:00</td>\n",
       "      <td>14 Madison St, San Francisco, CA 94016</td>\n",
       "    </tr>\n",
       "    <tr>\n",
       "      <th>186845</th>\n",
       "      <td>319667</td>\n",
       "      <td>AA Batteries (4-pack)</td>\n",
       "      <td>2</td>\n",
       "      <td>3.84</td>\n",
       "      <td>2019-12-01 12:01:00</td>\n",
       "      <td>549 Willow St, Los Angeles, CA 90001</td>\n",
       "    </tr>\n",
       "    <tr>\n",
       "      <th>186846</th>\n",
       "      <td>319668</td>\n",
       "      <td>Vareebadd Phone</td>\n",
       "      <td>1</td>\n",
       "      <td>400</td>\n",
       "      <td>2019-12-09 06:43:00</td>\n",
       "      <td>273 Wilson St, Seattle, WA 98101</td>\n",
       "    </tr>\n",
       "    <tr>\n",
       "      <th>186847</th>\n",
       "      <td>319669</td>\n",
       "      <td>Wired Headphones</td>\n",
       "      <td>1</td>\n",
       "      <td>11.99</td>\n",
       "      <td>2019-12-03 10:39:00</td>\n",
       "      <td>778 River St, Dallas, TX 75001</td>\n",
       "    </tr>\n",
       "    <tr>\n",
       "      <th>186848</th>\n",
       "      <td>319670</td>\n",
       "      <td>Bose SoundSport Headphones</td>\n",
       "      <td>1</td>\n",
       "      <td>99.99</td>\n",
       "      <td>2019-12-21 21:45:00</td>\n",
       "      <td>747 Chestnut St, Los Angeles, CA 90001</td>\n",
       "    </tr>\n",
       "  </tbody>\n",
       "</table>\n",
       "</div>"
      ],
      "text/plain": [
       "       Order ID                     Product Quantity Ordered Price Each  \\\n",
       "186844   319666    Lightning Charging Cable                1      14.95   \n",
       "186845   319667       AA Batteries (4-pack)                2       3.84   \n",
       "186846   319668             Vareebadd Phone                1        400   \n",
       "186847   319669            Wired Headphones                1      11.99   \n",
       "186848   319670  Bose SoundSport Headphones                1      99.99   \n",
       "\n",
       "                 Order Date                        Purchase Address  \n",
       "186844  2019-12-11 20:58:00  14 Madison St, San Francisco, CA 94016  \n",
       "186845  2019-12-01 12:01:00    549 Willow St, Los Angeles, CA 90001  \n",
       "186846  2019-12-09 06:43:00        273 Wilson St, Seattle, WA 98101  \n",
       "186847  2019-12-03 10:39:00          778 River St, Dallas, TX 75001  \n",
       "186848  2019-12-21 21:45:00  747 Chestnut St, Los Angeles, CA 90001  "
      ]
     },
     "execution_count": 6,
     "metadata": {},
     "output_type": "execute_result"
    }
   ],
   "source": [
    "# View the bottom 5 of the merged data\n",
    "\n",
    "sales_data.tail()"
   ]
  },
  {
   "cell_type": "code",
   "execution_count": 7,
   "id": "4a6b1aaa",
   "metadata": {},
   "outputs": [
    {
     "name": "stdout",
     "output_type": "stream",
     "text": [
      "<class 'pandas.core.frame.DataFrame'>\n",
      "RangeIndex: 186849 entries, 0 to 186848\n",
      "Data columns (total 6 columns):\n",
      " #   Column            Non-Null Count   Dtype \n",
      "---  ------            --------------   ----- \n",
      " 0   Order ID          186305 non-null  object\n",
      " 1   Product           186305 non-null  object\n",
      " 2   Quantity Ordered  186305 non-null  object\n",
      " 3   Price Each        186305 non-null  object\n",
      " 4   Order Date        186305 non-null  object\n",
      " 5   Purchase Address  186305 non-null  object\n",
      "dtypes: object(6)\n",
      "memory usage: 8.6+ MB\n"
     ]
    }
   ],
   "source": [
    "# Check data info, data types\n",
    "\n",
    "sales_data.info()"
   ]
  },
  {
   "cell_type": "code",
   "execution_count": 8,
   "id": "5fbfc201",
   "metadata": {
    "scrolled": true
   },
   "outputs": [
    {
     "data": {
      "text/plain": [
       "Order ID            544\n",
       "Product             544\n",
       "Quantity Ordered    544\n",
       "Price Each          544\n",
       "Order Date          544\n",
       "Purchase Address    544\n",
       "dtype: int64"
      ]
     },
     "execution_count": 8,
     "metadata": {},
     "output_type": "execute_result"
    }
   ],
   "source": [
    "# Check for NULL rows\n",
    "\n",
    "sales_data.isnull().sum()"
   ]
  },
  {
   "cell_type": "code",
   "execution_count": 9,
   "id": "eac2e746",
   "metadata": {},
   "outputs": [],
   "source": [
    "# Drop all NULLs from dataframe\n",
    "\n",
    "sales_data.dropna(inplace=True)"
   ]
  },
  {
   "cell_type": "code",
   "execution_count": 10,
   "id": "f961b0e6",
   "metadata": {},
   "outputs": [
    {
     "data": {
      "text/plain": [
       "Order ID            0\n",
       "Product             0\n",
       "Quantity Ordered    0\n",
       "Price Each          0\n",
       "Order Date          0\n",
       "Purchase Address    0\n",
       "dtype: int64"
      ]
     },
     "execution_count": 10,
     "metadata": {},
     "output_type": "execute_result"
    }
   ],
   "source": [
    "# Check for NULL rows\n",
    "sales_data.isnull().sum()"
   ]
  },
  {
   "cell_type": "code",
   "execution_count": 11,
   "id": "02d709bb",
   "metadata": {},
   "outputs": [
    {
     "data": {
      "text/html": [
       "<div>\n",
       "<style scoped>\n",
       "    .dataframe tbody tr th:only-of-type {\n",
       "        vertical-align: middle;\n",
       "    }\n",
       "\n",
       "    .dataframe tbody tr th {\n",
       "        vertical-align: top;\n",
       "    }\n",
       "\n",
       "    .dataframe thead th {\n",
       "        text-align: right;\n",
       "    }\n",
       "</style>\n",
       "<table border=\"1\" class=\"dataframe\">\n",
       "  <thead>\n",
       "    <tr style=\"text-align: right;\">\n",
       "      <th></th>\n",
       "      <th>Order ID</th>\n",
       "      <th>Product</th>\n",
       "      <th>Quantity Ordered</th>\n",
       "      <th>Price Each</th>\n",
       "      <th>Order Date</th>\n",
       "      <th>Purchase Address</th>\n",
       "    </tr>\n",
       "  </thead>\n",
       "  <tbody>\n",
       "    <tr>\n",
       "      <th>1073</th>\n",
       "      <td>Order ID</td>\n",
       "      <td>Product</td>\n",
       "      <td>Quantity Ordered</td>\n",
       "      <td>Price Each</td>\n",
       "      <td>Order Date</td>\n",
       "      <td>Purchase Address</td>\n",
       "    </tr>\n",
       "    <tr>\n",
       "      <th>1102</th>\n",
       "      <td>Order ID</td>\n",
       "      <td>Product</td>\n",
       "      <td>Quantity Ordered</td>\n",
       "      <td>Price Each</td>\n",
       "      <td>Order Date</td>\n",
       "      <td>Purchase Address</td>\n",
       "    </tr>\n",
       "    <tr>\n",
       "      <th>1194</th>\n",
       "      <td>Order ID</td>\n",
       "      <td>Product</td>\n",
       "      <td>Quantity Ordered</td>\n",
       "      <td>Price Each</td>\n",
       "      <td>Order Date</td>\n",
       "      <td>Purchase Address</td>\n",
       "    </tr>\n",
       "    <tr>\n",
       "      <th>1897</th>\n",
       "      <td>Order ID</td>\n",
       "      <td>Product</td>\n",
       "      <td>Quantity Ordered</td>\n",
       "      <td>Price Each</td>\n",
       "      <td>Order Date</td>\n",
       "      <td>Purchase Address</td>\n",
       "    </tr>\n",
       "    <tr>\n",
       "      <th>2463</th>\n",
       "      <td>Order ID</td>\n",
       "      <td>Product</td>\n",
       "      <td>Quantity Ordered</td>\n",
       "      <td>Price Each</td>\n",
       "      <td>Order Date</td>\n",
       "      <td>Purchase Address</td>\n",
       "    </tr>\n",
       "    <tr>\n",
       "      <th>...</th>\n",
       "      <td>...</td>\n",
       "      <td>...</td>\n",
       "      <td>...</td>\n",
       "      <td>...</td>\n",
       "      <td>...</td>\n",
       "      <td>...</td>\n",
       "    </tr>\n",
       "    <tr>\n",
       "      <th>184930</th>\n",
       "      <td>Order ID</td>\n",
       "      <td>Product</td>\n",
       "      <td>Quantity Ordered</td>\n",
       "      <td>Price Each</td>\n",
       "      <td>Order Date</td>\n",
       "      <td>Purchase Address</td>\n",
       "    </tr>\n",
       "    <tr>\n",
       "      <th>185069</th>\n",
       "      <td>Order ID</td>\n",
       "      <td>Product</td>\n",
       "      <td>Quantity Ordered</td>\n",
       "      <td>Price Each</td>\n",
       "      <td>Order Date</td>\n",
       "      <td>Purchase Address</td>\n",
       "    </tr>\n",
       "    <tr>\n",
       "      <th>185480</th>\n",
       "      <td>Order ID</td>\n",
       "      <td>Product</td>\n",
       "      <td>Quantity Ordered</td>\n",
       "      <td>Price Each</td>\n",
       "      <td>Order Date</td>\n",
       "      <td>Purchase Address</td>\n",
       "    </tr>\n",
       "    <tr>\n",
       "      <th>185924</th>\n",
       "      <td>Order ID</td>\n",
       "      <td>Product</td>\n",
       "      <td>Quantity Ordered</td>\n",
       "      <td>Price Each</td>\n",
       "      <td>Order Date</td>\n",
       "      <td>Purchase Address</td>\n",
       "    </tr>\n",
       "    <tr>\n",
       "      <th>185954</th>\n",
       "      <td>Order ID</td>\n",
       "      <td>Product</td>\n",
       "      <td>Quantity Ordered</td>\n",
       "      <td>Price Each</td>\n",
       "      <td>Order Date</td>\n",
       "      <td>Purchase Address</td>\n",
       "    </tr>\n",
       "  </tbody>\n",
       "</table>\n",
       "<p>355 rows × 6 columns</p>\n",
       "</div>"
      ],
      "text/plain": [
       "        Order ID  Product  Quantity Ordered  Price Each  Order Date  \\\n",
       "1073    Order ID  Product  Quantity Ordered  Price Each  Order Date   \n",
       "1102    Order ID  Product  Quantity Ordered  Price Each  Order Date   \n",
       "1194    Order ID  Product  Quantity Ordered  Price Each  Order Date   \n",
       "1897    Order ID  Product  Quantity Ordered  Price Each  Order Date   \n",
       "2463    Order ID  Product  Quantity Ordered  Price Each  Order Date   \n",
       "...          ...      ...               ...         ...         ...   \n",
       "184930  Order ID  Product  Quantity Ordered  Price Each  Order Date   \n",
       "185069  Order ID  Product  Quantity Ordered  Price Each  Order Date   \n",
       "185480  Order ID  Product  Quantity Ordered  Price Each  Order Date   \n",
       "185924  Order ID  Product  Quantity Ordered  Price Each  Order Date   \n",
       "185954  Order ID  Product  Quantity Ordered  Price Each  Order Date   \n",
       "\n",
       "        Purchase Address  \n",
       "1073    Purchase Address  \n",
       "1102    Purchase Address  \n",
       "1194    Purchase Address  \n",
       "1897    Purchase Address  \n",
       "2463    Purchase Address  \n",
       "...                  ...  \n",
       "184930  Purchase Address  \n",
       "185069  Purchase Address  \n",
       "185480  Purchase Address  \n",
       "185924  Purchase Address  \n",
       "185954  Purchase Address  \n",
       "\n",
       "[355 rows x 6 columns]"
      ]
     },
     "execution_count": 11,
     "metadata": {},
     "output_type": "execute_result"
    }
   ],
   "source": [
    "# Check for rows that have column titles as sales data\n",
    "\n",
    "sales_data[sales_data['Order ID'] == 'Order ID']\n"
   ]
  },
  {
   "cell_type": "code",
   "execution_count": 12,
   "id": "cbcc91f7",
   "metadata": {},
   "outputs": [],
   "source": [
    "# Get the index of the rows with column titles\n",
    "index_names = sales_data[sales_data['Order ID'] == 'Order ID'].index\n",
    "\n",
    "# Drop the rows\n",
    "sales_data.drop(index_names, inplace=True)\n"
   ]
  },
  {
   "cell_type": "code",
   "execution_count": 13,
   "id": "f4c9a8a9",
   "metadata": {},
   "outputs": [],
   "source": [
    "# Change order ID, Quantity Ordered, Price Each, Order Date columns datatype\n",
    "\n",
    "sales_data['Order ID'] = sales_data['Order ID'].astype('int64')\n",
    "sales_data['Quantity Ordered'] = sales_data['Quantity Ordered'].astype('int64')\n",
    "sales_data['Price Each'] = sales_data['Price Each'].astype('float')\n",
    "sales_data['Order Date'] = sales_data['Order Date'].astype('datetime64')"
   ]
  },
  {
   "cell_type": "code",
   "execution_count": 14,
   "id": "a0b2d290",
   "metadata": {},
   "outputs": [
    {
     "name": "stdout",
     "output_type": "stream",
     "text": [
      "<class 'pandas.core.frame.DataFrame'>\n",
      "Int64Index: 185950 entries, 0 to 186848\n",
      "Data columns (total 6 columns):\n",
      " #   Column            Non-Null Count   Dtype         \n",
      "---  ------            --------------   -----         \n",
      " 0   Order ID          185950 non-null  int64         \n",
      " 1   Product           185950 non-null  object        \n",
      " 2   Quantity Ordered  185950 non-null  int64         \n",
      " 3   Price Each        185950 non-null  float64       \n",
      " 4   Order Date        185950 non-null  datetime64[ns]\n",
      " 5   Purchase Address  185950 non-null  object        \n",
      "dtypes: datetime64[ns](1), float64(1), int64(2), object(2)\n",
      "memory usage: 9.9+ MB\n"
     ]
    }
   ],
   "source": [
    "# Check data info, data types\n",
    "\n",
    "sales_data.info()"
   ]
  },
  {
   "cell_type": "code",
   "execution_count": 15,
   "id": "b19fd393",
   "metadata": {},
   "outputs": [
    {
     "data": {
      "text/html": [
       "<div>\n",
       "<style scoped>\n",
       "    .dataframe tbody tr th:only-of-type {\n",
       "        vertical-align: middle;\n",
       "    }\n",
       "\n",
       "    .dataframe tbody tr th {\n",
       "        vertical-align: top;\n",
       "    }\n",
       "\n",
       "    .dataframe thead th {\n",
       "        text-align: right;\n",
       "    }\n",
       "</style>\n",
       "<table border=\"1\" class=\"dataframe\">\n",
       "  <thead>\n",
       "    <tr style=\"text-align: right;\">\n",
       "      <th></th>\n",
       "      <th>Order ID</th>\n",
       "      <th>Product</th>\n",
       "      <th>Quantity Ordered</th>\n",
       "      <th>Price Each</th>\n",
       "      <th>Order Date</th>\n",
       "      <th>Purchase Address</th>\n",
       "    </tr>\n",
       "  </thead>\n",
       "  <tbody>\n",
       "    <tr>\n",
       "      <th>0</th>\n",
       "      <td>141234</td>\n",
       "      <td>iPhone</td>\n",
       "      <td>1</td>\n",
       "      <td>700.00</td>\n",
       "      <td>2019-01-22 21:25:00</td>\n",
       "      <td>944 Walnut St, Boston, MA 02215</td>\n",
       "    </tr>\n",
       "    <tr>\n",
       "      <th>1</th>\n",
       "      <td>141235</td>\n",
       "      <td>Lightning Charging Cable</td>\n",
       "      <td>1</td>\n",
       "      <td>14.95</td>\n",
       "      <td>2019-01-28 14:15:00</td>\n",
       "      <td>185 Maple St, Portland, OR 97035</td>\n",
       "    </tr>\n",
       "    <tr>\n",
       "      <th>2</th>\n",
       "      <td>141236</td>\n",
       "      <td>Wired Headphones</td>\n",
       "      <td>2</td>\n",
       "      <td>11.99</td>\n",
       "      <td>2019-01-17 13:33:00</td>\n",
       "      <td>538 Adams St, San Francisco, CA 94016</td>\n",
       "    </tr>\n",
       "    <tr>\n",
       "      <th>3</th>\n",
       "      <td>141237</td>\n",
       "      <td>27in FHD Monitor</td>\n",
       "      <td>1</td>\n",
       "      <td>149.99</td>\n",
       "      <td>2019-01-05 20:33:00</td>\n",
       "      <td>738 10th St, Los Angeles, CA 90001</td>\n",
       "    </tr>\n",
       "    <tr>\n",
       "      <th>4</th>\n",
       "      <td>141238</td>\n",
       "      <td>Wired Headphones</td>\n",
       "      <td>1</td>\n",
       "      <td>11.99</td>\n",
       "      <td>2019-01-25 11:59:00</td>\n",
       "      <td>387 10th St, Austin, TX 73301</td>\n",
       "    </tr>\n",
       "  </tbody>\n",
       "</table>\n",
       "</div>"
      ],
      "text/plain": [
       "   Order ID                   Product  Quantity Ordered  Price Each  \\\n",
       "0    141234                    iPhone                 1      700.00   \n",
       "1    141235  Lightning Charging Cable                 1       14.95   \n",
       "2    141236          Wired Headphones                 2       11.99   \n",
       "3    141237          27in FHD Monitor                 1      149.99   \n",
       "4    141238          Wired Headphones                 1       11.99   \n",
       "\n",
       "           Order Date                       Purchase Address  \n",
       "0 2019-01-22 21:25:00        944 Walnut St, Boston, MA 02215  \n",
       "1 2019-01-28 14:15:00       185 Maple St, Portland, OR 97035  \n",
       "2 2019-01-17 13:33:00  538 Adams St, San Francisco, CA 94016  \n",
       "3 2019-01-05 20:33:00     738 10th St, Los Angeles, CA 90001  \n",
       "4 2019-01-25 11:59:00          387 10th St, Austin, TX 73301  "
      ]
     },
     "execution_count": 15,
     "metadata": {},
     "output_type": "execute_result"
    }
   ],
   "source": [
    "sales_data.head()"
   ]
  },
  {
   "cell_type": "code",
   "execution_count": 17,
   "id": "114c45fe",
   "metadata": {},
   "outputs": [],
   "source": [
    "# Create new column for total price (Quantity Ordered * Price Each)\n",
    "\n",
    "sales_data['Sales'] = sales_data['Quantity Ordered'] * sales_data['Price Each']"
   ]
  },
  {
   "cell_type": "code",
   "execution_count": 18,
   "id": "ae693ff4",
   "metadata": {},
   "outputs": [
    {
     "data": {
      "text/html": [
       "<div>\n",
       "<style scoped>\n",
       "    .dataframe tbody tr th:only-of-type {\n",
       "        vertical-align: middle;\n",
       "    }\n",
       "\n",
       "    .dataframe tbody tr th {\n",
       "        vertical-align: top;\n",
       "    }\n",
       "\n",
       "    .dataframe thead th {\n",
       "        text-align: right;\n",
       "    }\n",
       "</style>\n",
       "<table border=\"1\" class=\"dataframe\">\n",
       "  <thead>\n",
       "    <tr style=\"text-align: right;\">\n",
       "      <th></th>\n",
       "      <th>Order ID</th>\n",
       "      <th>Product</th>\n",
       "      <th>Quantity Ordered</th>\n",
       "      <th>Price Each</th>\n",
       "      <th>Order Date</th>\n",
       "      <th>Purchase Address</th>\n",
       "      <th>Total Amount</th>\n",
       "      <th>Sales</th>\n",
       "    </tr>\n",
       "  </thead>\n",
       "  <tbody>\n",
       "    <tr>\n",
       "      <th>0</th>\n",
       "      <td>141234</td>\n",
       "      <td>iPhone</td>\n",
       "      <td>1</td>\n",
       "      <td>700.00</td>\n",
       "      <td>2019-01-22 21:25:00</td>\n",
       "      <td>944 Walnut St, Boston, MA 02215</td>\n",
       "      <td>700.00</td>\n",
       "      <td>700.00</td>\n",
       "    </tr>\n",
       "    <tr>\n",
       "      <th>1</th>\n",
       "      <td>141235</td>\n",
       "      <td>Lightning Charging Cable</td>\n",
       "      <td>1</td>\n",
       "      <td>14.95</td>\n",
       "      <td>2019-01-28 14:15:00</td>\n",
       "      <td>185 Maple St, Portland, OR 97035</td>\n",
       "      <td>14.95</td>\n",
       "      <td>14.95</td>\n",
       "    </tr>\n",
       "    <tr>\n",
       "      <th>2</th>\n",
       "      <td>141236</td>\n",
       "      <td>Wired Headphones</td>\n",
       "      <td>2</td>\n",
       "      <td>11.99</td>\n",
       "      <td>2019-01-17 13:33:00</td>\n",
       "      <td>538 Adams St, San Francisco, CA 94016</td>\n",
       "      <td>23.98</td>\n",
       "      <td>23.98</td>\n",
       "    </tr>\n",
       "    <tr>\n",
       "      <th>3</th>\n",
       "      <td>141237</td>\n",
       "      <td>27in FHD Monitor</td>\n",
       "      <td>1</td>\n",
       "      <td>149.99</td>\n",
       "      <td>2019-01-05 20:33:00</td>\n",
       "      <td>738 10th St, Los Angeles, CA 90001</td>\n",
       "      <td>149.99</td>\n",
       "      <td>149.99</td>\n",
       "    </tr>\n",
       "    <tr>\n",
       "      <th>4</th>\n",
       "      <td>141238</td>\n",
       "      <td>Wired Headphones</td>\n",
       "      <td>1</td>\n",
       "      <td>11.99</td>\n",
       "      <td>2019-01-25 11:59:00</td>\n",
       "      <td>387 10th St, Austin, TX 73301</td>\n",
       "      <td>11.99</td>\n",
       "      <td>11.99</td>\n",
       "    </tr>\n",
       "  </tbody>\n",
       "</table>\n",
       "</div>"
      ],
      "text/plain": [
       "   Order ID                   Product  Quantity Ordered  Price Each  \\\n",
       "0    141234                    iPhone                 1      700.00   \n",
       "1    141235  Lightning Charging Cable                 1       14.95   \n",
       "2    141236          Wired Headphones                 2       11.99   \n",
       "3    141237          27in FHD Monitor                 1      149.99   \n",
       "4    141238          Wired Headphones                 1       11.99   \n",
       "\n",
       "           Order Date                       Purchase Address  Total Amount  \\\n",
       "0 2019-01-22 21:25:00        944 Walnut St, Boston, MA 02215        700.00   \n",
       "1 2019-01-28 14:15:00       185 Maple St, Portland, OR 97035         14.95   \n",
       "2 2019-01-17 13:33:00  538 Adams St, San Francisco, CA 94016         23.98   \n",
       "3 2019-01-05 20:33:00     738 10th St, Los Angeles, CA 90001        149.99   \n",
       "4 2019-01-25 11:59:00          387 10th St, Austin, TX 73301         11.99   \n",
       "\n",
       "    Sales  \n",
       "0  700.00  \n",
       "1   14.95  \n",
       "2   23.98  \n",
       "3  149.99  \n",
       "4   11.99  "
      ]
     },
     "execution_count": 18,
     "metadata": {},
     "output_type": "execute_result"
    }
   ],
   "source": [
    "sales_data.head()"
   ]
  },
  {
   "cell_type": "code",
   "execution_count": 23,
   "id": "4294f32e",
   "metadata": {},
   "outputs": [
    {
     "data": {
      "text/plain": [
       "0     Tuesday\n",
       "1      Monday\n",
       "2    Thursday\n",
       "3    Saturday\n",
       "4      Friday\n",
       "Name: Day_of_Week, dtype: object"
      ]
     },
     "execution_count": 23,
     "metadata": {},
     "output_type": "execute_result"
    }
   ],
   "source": [
    "# Create a new column for day of week from the Order Date column\n",
    "\n",
    "sales_data['Day_of_Week'] = sales_data['Order Date'].dt.day_name()\n",
    "sales_data.Day_of_Week.head()"
   ]
  },
  {
   "cell_type": "code",
   "execution_count": 24,
   "id": "54904c7f",
   "metadata": {},
   "outputs": [
    {
     "data": {
      "text/plain": [
       "0    1\n",
       "1    1\n",
       "2    1\n",
       "3    1\n",
       "4    1\n",
       "Name: Month, dtype: int64"
      ]
     },
     "execution_count": 24,
     "metadata": {},
     "output_type": "execute_result"
    }
   ],
   "source": [
    "# Create a new column for day of week from the Order Date column\n",
    "\n",
    "sales_data['Month'] = sales_data['Order Date'].dt.month\n",
    "sales_data.Month.head()"
   ]
  },
  {
   "cell_type": "code",
   "execution_count": 25,
   "id": "b4279369",
   "metadata": {},
   "outputs": [
    {
     "data": {
      "text/html": [
       "<div>\n",
       "<style scoped>\n",
       "    .dataframe tbody tr th:only-of-type {\n",
       "        vertical-align: middle;\n",
       "    }\n",
       "\n",
       "    .dataframe tbody tr th {\n",
       "        vertical-align: top;\n",
       "    }\n",
       "\n",
       "    .dataframe thead th {\n",
       "        text-align: right;\n",
       "    }\n",
       "</style>\n",
       "<table border=\"1\" class=\"dataframe\">\n",
       "  <thead>\n",
       "    <tr style=\"text-align: right;\">\n",
       "      <th></th>\n",
       "      <th>Order ID</th>\n",
       "      <th>Product</th>\n",
       "      <th>Quantity Ordered</th>\n",
       "      <th>Price Each</th>\n",
       "      <th>Order Date</th>\n",
       "      <th>Purchase Address</th>\n",
       "      <th>Total Amount</th>\n",
       "      <th>Sales</th>\n",
       "      <th>Day_of_Week</th>\n",
       "      <th>Month</th>\n",
       "    </tr>\n",
       "  </thead>\n",
       "  <tbody>\n",
       "    <tr>\n",
       "      <th>0</th>\n",
       "      <td>141234</td>\n",
       "      <td>iPhone</td>\n",
       "      <td>1</td>\n",
       "      <td>700.00</td>\n",
       "      <td>2019-01-22 21:25:00</td>\n",
       "      <td>944 Walnut St, Boston, MA 02215</td>\n",
       "      <td>700.00</td>\n",
       "      <td>700.00</td>\n",
       "      <td>Tuesday</td>\n",
       "      <td>1</td>\n",
       "    </tr>\n",
       "    <tr>\n",
       "      <th>1</th>\n",
       "      <td>141235</td>\n",
       "      <td>Lightning Charging Cable</td>\n",
       "      <td>1</td>\n",
       "      <td>14.95</td>\n",
       "      <td>2019-01-28 14:15:00</td>\n",
       "      <td>185 Maple St, Portland, OR 97035</td>\n",
       "      <td>14.95</td>\n",
       "      <td>14.95</td>\n",
       "      <td>Monday</td>\n",
       "      <td>1</td>\n",
       "    </tr>\n",
       "    <tr>\n",
       "      <th>2</th>\n",
       "      <td>141236</td>\n",
       "      <td>Wired Headphones</td>\n",
       "      <td>2</td>\n",
       "      <td>11.99</td>\n",
       "      <td>2019-01-17 13:33:00</td>\n",
       "      <td>538 Adams St, San Francisco, CA 94016</td>\n",
       "      <td>23.98</td>\n",
       "      <td>23.98</td>\n",
       "      <td>Thursday</td>\n",
       "      <td>1</td>\n",
       "    </tr>\n",
       "    <tr>\n",
       "      <th>3</th>\n",
       "      <td>141237</td>\n",
       "      <td>27in FHD Monitor</td>\n",
       "      <td>1</td>\n",
       "      <td>149.99</td>\n",
       "      <td>2019-01-05 20:33:00</td>\n",
       "      <td>738 10th St, Los Angeles, CA 90001</td>\n",
       "      <td>149.99</td>\n",
       "      <td>149.99</td>\n",
       "      <td>Saturday</td>\n",
       "      <td>1</td>\n",
       "    </tr>\n",
       "    <tr>\n",
       "      <th>4</th>\n",
       "      <td>141238</td>\n",
       "      <td>Wired Headphones</td>\n",
       "      <td>1</td>\n",
       "      <td>11.99</td>\n",
       "      <td>2019-01-25 11:59:00</td>\n",
       "      <td>387 10th St, Austin, TX 73301</td>\n",
       "      <td>11.99</td>\n",
       "      <td>11.99</td>\n",
       "      <td>Friday</td>\n",
       "      <td>1</td>\n",
       "    </tr>\n",
       "  </tbody>\n",
       "</table>\n",
       "</div>"
      ],
      "text/plain": [
       "   Order ID                   Product  Quantity Ordered  Price Each  \\\n",
       "0    141234                    iPhone                 1      700.00   \n",
       "1    141235  Lightning Charging Cable                 1       14.95   \n",
       "2    141236          Wired Headphones                 2       11.99   \n",
       "3    141237          27in FHD Monitor                 1      149.99   \n",
       "4    141238          Wired Headphones                 1       11.99   \n",
       "\n",
       "           Order Date                       Purchase Address  Total Amount  \\\n",
       "0 2019-01-22 21:25:00        944 Walnut St, Boston, MA 02215        700.00   \n",
       "1 2019-01-28 14:15:00       185 Maple St, Portland, OR 97035         14.95   \n",
       "2 2019-01-17 13:33:00  538 Adams St, San Francisco, CA 94016         23.98   \n",
       "3 2019-01-05 20:33:00     738 10th St, Los Angeles, CA 90001        149.99   \n",
       "4 2019-01-25 11:59:00          387 10th St, Austin, TX 73301         11.99   \n",
       "\n",
       "    Sales Day_of_Week  Month  \n",
       "0  700.00     Tuesday      1  \n",
       "1   14.95      Monday      1  \n",
       "2   23.98    Thursday      1  \n",
       "3  149.99    Saturday      1  \n",
       "4   11.99      Friday      1  "
      ]
     },
     "execution_count": 25,
     "metadata": {},
     "output_type": "execute_result"
    }
   ],
   "source": [
    "sales_data.head()"
   ]
  },
  {
   "cell_type": "code",
   "execution_count": 26,
   "id": "36b8c5c8",
   "metadata": {},
   "outputs": [],
   "source": [
    "# Create a new column for city from the Purchase Address column\n",
    "\n",
    "sales_data['City'] = sales_data['Purchase Address'].apply(lambda x: x.split(',')[1])"
   ]
  },
  {
   "cell_type": "code",
   "execution_count": 27,
   "id": "49ec6676",
   "metadata": {},
   "outputs": [
    {
     "data": {
      "text/html": [
       "<div>\n",
       "<style scoped>\n",
       "    .dataframe tbody tr th:only-of-type {\n",
       "        vertical-align: middle;\n",
       "    }\n",
       "\n",
       "    .dataframe tbody tr th {\n",
       "        vertical-align: top;\n",
       "    }\n",
       "\n",
       "    .dataframe thead th {\n",
       "        text-align: right;\n",
       "    }\n",
       "</style>\n",
       "<table border=\"1\" class=\"dataframe\">\n",
       "  <thead>\n",
       "    <tr style=\"text-align: right;\">\n",
       "      <th></th>\n",
       "      <th>Order ID</th>\n",
       "      <th>Product</th>\n",
       "      <th>Quantity Ordered</th>\n",
       "      <th>Price Each</th>\n",
       "      <th>Order Date</th>\n",
       "      <th>Purchase Address</th>\n",
       "      <th>Total Amount</th>\n",
       "      <th>Sales</th>\n",
       "      <th>Day_of_Week</th>\n",
       "      <th>Month</th>\n",
       "      <th>City</th>\n",
       "    </tr>\n",
       "  </thead>\n",
       "  <tbody>\n",
       "    <tr>\n",
       "      <th>0</th>\n",
       "      <td>141234</td>\n",
       "      <td>iPhone</td>\n",
       "      <td>1</td>\n",
       "      <td>700.00</td>\n",
       "      <td>2019-01-22 21:25:00</td>\n",
       "      <td>944 Walnut St, Boston, MA 02215</td>\n",
       "      <td>700.00</td>\n",
       "      <td>700.00</td>\n",
       "      <td>Tuesday</td>\n",
       "      <td>1</td>\n",
       "      <td>Boston</td>\n",
       "    </tr>\n",
       "    <tr>\n",
       "      <th>1</th>\n",
       "      <td>141235</td>\n",
       "      <td>Lightning Charging Cable</td>\n",
       "      <td>1</td>\n",
       "      <td>14.95</td>\n",
       "      <td>2019-01-28 14:15:00</td>\n",
       "      <td>185 Maple St, Portland, OR 97035</td>\n",
       "      <td>14.95</td>\n",
       "      <td>14.95</td>\n",
       "      <td>Monday</td>\n",
       "      <td>1</td>\n",
       "      <td>Portland</td>\n",
       "    </tr>\n",
       "    <tr>\n",
       "      <th>2</th>\n",
       "      <td>141236</td>\n",
       "      <td>Wired Headphones</td>\n",
       "      <td>2</td>\n",
       "      <td>11.99</td>\n",
       "      <td>2019-01-17 13:33:00</td>\n",
       "      <td>538 Adams St, San Francisco, CA 94016</td>\n",
       "      <td>23.98</td>\n",
       "      <td>23.98</td>\n",
       "      <td>Thursday</td>\n",
       "      <td>1</td>\n",
       "      <td>San Francisco</td>\n",
       "    </tr>\n",
       "    <tr>\n",
       "      <th>3</th>\n",
       "      <td>141237</td>\n",
       "      <td>27in FHD Monitor</td>\n",
       "      <td>1</td>\n",
       "      <td>149.99</td>\n",
       "      <td>2019-01-05 20:33:00</td>\n",
       "      <td>738 10th St, Los Angeles, CA 90001</td>\n",
       "      <td>149.99</td>\n",
       "      <td>149.99</td>\n",
       "      <td>Saturday</td>\n",
       "      <td>1</td>\n",
       "      <td>Los Angeles</td>\n",
       "    </tr>\n",
       "    <tr>\n",
       "      <th>4</th>\n",
       "      <td>141238</td>\n",
       "      <td>Wired Headphones</td>\n",
       "      <td>1</td>\n",
       "      <td>11.99</td>\n",
       "      <td>2019-01-25 11:59:00</td>\n",
       "      <td>387 10th St, Austin, TX 73301</td>\n",
       "      <td>11.99</td>\n",
       "      <td>11.99</td>\n",
       "      <td>Friday</td>\n",
       "      <td>1</td>\n",
       "      <td>Austin</td>\n",
       "    </tr>\n",
       "  </tbody>\n",
       "</table>\n",
       "</div>"
      ],
      "text/plain": [
       "   Order ID                   Product  Quantity Ordered  Price Each  \\\n",
       "0    141234                    iPhone                 1      700.00   \n",
       "1    141235  Lightning Charging Cable                 1       14.95   \n",
       "2    141236          Wired Headphones                 2       11.99   \n",
       "3    141237          27in FHD Monitor                 1      149.99   \n",
       "4    141238          Wired Headphones                 1       11.99   \n",
       "\n",
       "           Order Date                       Purchase Address  Total Amount  \\\n",
       "0 2019-01-22 21:25:00        944 Walnut St, Boston, MA 02215        700.00   \n",
       "1 2019-01-28 14:15:00       185 Maple St, Portland, OR 97035         14.95   \n",
       "2 2019-01-17 13:33:00  538 Adams St, San Francisco, CA 94016         23.98   \n",
       "3 2019-01-05 20:33:00     738 10th St, Los Angeles, CA 90001        149.99   \n",
       "4 2019-01-25 11:59:00          387 10th St, Austin, TX 73301         11.99   \n",
       "\n",
       "    Sales Day_of_Week  Month            City  \n",
       "0  700.00     Tuesday      1          Boston  \n",
       "1   14.95      Monday      1        Portland  \n",
       "2   23.98    Thursday      1   San Francisco  \n",
       "3  149.99    Saturday      1     Los Angeles  \n",
       "4   11.99      Friday      1          Austin  "
      ]
     },
     "execution_count": 27,
     "metadata": {},
     "output_type": "execute_result"
    }
   ],
   "source": [
    "sales_data.head()"
   ]
  },
  {
   "cell_type": "code",
   "execution_count": 28,
   "id": "dac8392a",
   "metadata": {},
   "outputs": [
    {
     "data": {
      "text/html": [
       "<div>\n",
       "<style scoped>\n",
       "    .dataframe tbody tr th:only-of-type {\n",
       "        vertical-align: middle;\n",
       "    }\n",
       "\n",
       "    .dataframe tbody tr th {\n",
       "        vertical-align: top;\n",
       "    }\n",
       "\n",
       "    .dataframe thead th {\n",
       "        text-align: right;\n",
       "    }\n",
       "</style>\n",
       "<table border=\"1\" class=\"dataframe\">\n",
       "  <thead>\n",
       "    <tr style=\"text-align: right;\">\n",
       "      <th></th>\n",
       "      <th>Order ID</th>\n",
       "      <th>Product</th>\n",
       "      <th>Quantity Ordered</th>\n",
       "      <th>Price Each</th>\n",
       "      <th>Order Date</th>\n",
       "      <th>Purchase Address</th>\n",
       "      <th>Total Amount</th>\n",
       "      <th>Sales</th>\n",
       "      <th>Day_of_Week</th>\n",
       "      <th>Month</th>\n",
       "      <th>City</th>\n",
       "    </tr>\n",
       "  </thead>\n",
       "  <tbody>\n",
       "    <tr>\n",
       "      <th>186844</th>\n",
       "      <td>319666</td>\n",
       "      <td>Lightning Charging Cable</td>\n",
       "      <td>1</td>\n",
       "      <td>14.95</td>\n",
       "      <td>2019-12-11 20:58:00</td>\n",
       "      <td>14 Madison St, San Francisco, CA 94016</td>\n",
       "      <td>14.95</td>\n",
       "      <td>14.95</td>\n",
       "      <td>Wednesday</td>\n",
       "      <td>12</td>\n",
       "      <td>San Francisco</td>\n",
       "    </tr>\n",
       "    <tr>\n",
       "      <th>186845</th>\n",
       "      <td>319667</td>\n",
       "      <td>AA Batteries (4-pack)</td>\n",
       "      <td>2</td>\n",
       "      <td>3.84</td>\n",
       "      <td>2019-12-01 12:01:00</td>\n",
       "      <td>549 Willow St, Los Angeles, CA 90001</td>\n",
       "      <td>7.68</td>\n",
       "      <td>7.68</td>\n",
       "      <td>Sunday</td>\n",
       "      <td>12</td>\n",
       "      <td>Los Angeles</td>\n",
       "    </tr>\n",
       "    <tr>\n",
       "      <th>186846</th>\n",
       "      <td>319668</td>\n",
       "      <td>Vareebadd Phone</td>\n",
       "      <td>1</td>\n",
       "      <td>400.00</td>\n",
       "      <td>2019-12-09 06:43:00</td>\n",
       "      <td>273 Wilson St, Seattle, WA 98101</td>\n",
       "      <td>400.00</td>\n",
       "      <td>400.00</td>\n",
       "      <td>Monday</td>\n",
       "      <td>12</td>\n",
       "      <td>Seattle</td>\n",
       "    </tr>\n",
       "    <tr>\n",
       "      <th>186847</th>\n",
       "      <td>319669</td>\n",
       "      <td>Wired Headphones</td>\n",
       "      <td>1</td>\n",
       "      <td>11.99</td>\n",
       "      <td>2019-12-03 10:39:00</td>\n",
       "      <td>778 River St, Dallas, TX 75001</td>\n",
       "      <td>11.99</td>\n",
       "      <td>11.99</td>\n",
       "      <td>Tuesday</td>\n",
       "      <td>12</td>\n",
       "      <td>Dallas</td>\n",
       "    </tr>\n",
       "    <tr>\n",
       "      <th>186848</th>\n",
       "      <td>319670</td>\n",
       "      <td>Bose SoundSport Headphones</td>\n",
       "      <td>1</td>\n",
       "      <td>99.99</td>\n",
       "      <td>2019-12-21 21:45:00</td>\n",
       "      <td>747 Chestnut St, Los Angeles, CA 90001</td>\n",
       "      <td>99.99</td>\n",
       "      <td>99.99</td>\n",
       "      <td>Saturday</td>\n",
       "      <td>12</td>\n",
       "      <td>Los Angeles</td>\n",
       "    </tr>\n",
       "  </tbody>\n",
       "</table>\n",
       "</div>"
      ],
      "text/plain": [
       "        Order ID                     Product  Quantity Ordered  Price Each  \\\n",
       "186844    319666    Lightning Charging Cable                 1       14.95   \n",
       "186845    319667       AA Batteries (4-pack)                 2        3.84   \n",
       "186846    319668             Vareebadd Phone                 1      400.00   \n",
       "186847    319669            Wired Headphones                 1       11.99   \n",
       "186848    319670  Bose SoundSport Headphones                 1       99.99   \n",
       "\n",
       "                Order Date                        Purchase Address  \\\n",
       "186844 2019-12-11 20:58:00  14 Madison St, San Francisco, CA 94016   \n",
       "186845 2019-12-01 12:01:00    549 Willow St, Los Angeles, CA 90001   \n",
       "186846 2019-12-09 06:43:00        273 Wilson St, Seattle, WA 98101   \n",
       "186847 2019-12-03 10:39:00          778 River St, Dallas, TX 75001   \n",
       "186848 2019-12-21 21:45:00  747 Chestnut St, Los Angeles, CA 90001   \n",
       "\n",
       "        Total Amount   Sales Day_of_Week  Month            City  \n",
       "186844         14.95   14.95   Wednesday     12   San Francisco  \n",
       "186845          7.68    7.68      Sunday     12     Los Angeles  \n",
       "186846        400.00  400.00      Monday     12         Seattle  \n",
       "186847         11.99   11.99     Tuesday     12          Dallas  \n",
       "186848         99.99   99.99    Saturday     12     Los Angeles  "
      ]
     },
     "execution_count": 28,
     "metadata": {},
     "output_type": "execute_result"
    }
   ],
   "source": [
    "sales_data.tail()"
   ]
  },
  {
   "cell_type": "code",
   "execution_count": 29,
   "id": "8bc862e0",
   "metadata": {},
   "outputs": [
    {
     "name": "stdout",
     "output_type": "stream",
     "text": [
      "<class 'pandas.core.frame.DataFrame'>\n",
      "Int64Index: 185950 entries, 0 to 186848\n",
      "Data columns (total 11 columns):\n",
      " #   Column            Non-Null Count   Dtype         \n",
      "---  ------            --------------   -----         \n",
      " 0   Order ID          185950 non-null  int64         \n",
      " 1   Product           185950 non-null  object        \n",
      " 2   Quantity Ordered  185950 non-null  int64         \n",
      " 3   Price Each        185950 non-null  float64       \n",
      " 4   Order Date        185950 non-null  datetime64[ns]\n",
      " 5   Purchase Address  185950 non-null  object        \n",
      " 6   Total Amount      185950 non-null  float64       \n",
      " 7   Sales             185950 non-null  float64       \n",
      " 8   Day_of_Week       185950 non-null  object        \n",
      " 9   Month             185950 non-null  int64         \n",
      " 10  City              185950 non-null  object        \n",
      "dtypes: datetime64[ns](1), float64(3), int64(3), object(4)\n",
      "memory usage: 17.0+ MB\n"
     ]
    }
   ],
   "source": [
    "sales_data.info()"
   ]
  },
  {
   "cell_type": "code",
   "execution_count": 30,
   "id": "56367be1",
   "metadata": {},
   "outputs": [
    {
     "name": "stdout",
     "output_type": "stream",
     "text": [
      "<class 'pandas.core.frame.DataFrame'>\n",
      "Int64Index: 185950 entries, 0 to 186848\n",
      "Data columns (total 11 columns):\n",
      " #   Column            Non-Null Count   Dtype         \n",
      "---  ------            --------------   -----         \n",
      " 0   Order ID          185950 non-null  int64         \n",
      " 1   Product           185950 non-null  object        \n",
      " 2   Quantity Ordered  185950 non-null  int64         \n",
      " 3   Price Each        185950 non-null  float64       \n",
      " 4   Order Date        185950 non-null  datetime64[ns]\n",
      " 5   Purchase Address  185950 non-null  object        \n",
      " 6   Total Amount      185950 non-null  float64       \n",
      " 7   Sales             185950 non-null  float64       \n",
      " 8   Day_of_Week       185950 non-null  category      \n",
      " 9   Month             185950 non-null  category      \n",
      " 10  City              185950 non-null  object        \n",
      "dtypes: category(2), datetime64[ns](1), float64(3), int64(2), object(3)\n",
      "memory usage: 14.5+ MB\n"
     ]
    }
   ],
   "source": [
    "# Convert Day_of_Week and Month_Name into categorical datatype\n",
    "\n",
    "sales_data['Day_of_Week'] = sales_data['Day_of_Week'].astype('category')\n",
    "sales_data['Month'] = sales_data['Month'].astype('category')\n",
    "sales_data.info()"
   ]
  },
  {
   "cell_type": "code",
   "execution_count": 31,
   "id": "db237a82",
   "metadata": {},
   "outputs": [
    {
     "name": "stdout",
     "output_type": "stream",
     "text": [
      "Duplicate Order IDs:\n",
      "        Order ID                     Product  Quantity Ordered  Price Each  \\\n",
      "42        141275            Wired Headphones                 1       11.99   \n",
      "58        141290       AA Batteries (4-pack)                 3        3.84   \n",
      "134       141365            Wired Headphones                 1       11.99   \n",
      "154       141384        USB-C Charging Cable                 1       11.95   \n",
      "221       141450  Bose SoundSport Headphones                 1       99.99   \n",
      "...          ...                         ...               ...         ...   \n",
      "186710    319536            Wired Headphones                 1       11.99   \n",
      "186731    319556            Wired Headphones                 1       11.99   \n",
      "186760    319584            Wired Headphones                 1       11.99   \n",
      "186773    319596    Lightning Charging Cable                 1       14.95   \n",
      "186809    319631    Lightning Charging Cable                 1       14.95   \n",
      "\n",
      "                Order Date                        Purchase Address  \\\n",
      "42     2019-01-07 16:06:00         610 Walnut St, Austin, TX 73301   \n",
      "58     2019-01-02 08:25:00         4 1st St, Los Angeles, CA 90001   \n",
      "134    2019-01-10 11:19:00  20 Dogwood St, New York City, NY 10001   \n",
      "154    2019-01-03 00:14:00        223 Jackson St, Boston, MA 02215   \n",
      "221    2019-01-12 11:16:00    521 Park St, San Francisco, CA 94016   \n",
      "...                    ...                                     ...   \n",
      "186710 2019-12-16 09:59:00           346 Elm St, Seattle, WA 98101   \n",
      "186731 2019-12-22 08:23:00            848 7th St, Austin, TX 73301   \n",
      "186760 2019-12-11 00:30:00       537 Sunset St, Portland, OR 97035   \n",
      "186773 2019-12-01 08:44:00    436 14th St, New York City, NY 10001   \n",
      "186809 2019-12-17 22:35:00       363 Highland St, Austin, TX 73301   \n",
      "\n",
      "        Total Amount  Sales Day_of_Week Month            City  \n",
      "42             11.99  11.99      Monday     1          Austin  \n",
      "58             11.52  11.52   Wednesday     1     Los Angeles  \n",
      "134            11.99  11.99    Thursday     1   New York City  \n",
      "154            11.95  11.95    Thursday     1          Boston  \n",
      "221            99.99  99.99    Saturday     1   San Francisco  \n",
      "...              ...    ...         ...   ...             ...  \n",
      "186710         11.99  11.99      Monday    12         Seattle  \n",
      "186731         11.99  11.99      Sunday    12          Austin  \n",
      "186760         11.99  11.99   Wednesday    12        Portland  \n",
      "186773         14.95  14.95      Sunday    12   New York City  \n",
      "186809         14.95  14.95     Tuesday    12          Austin  \n",
      "\n",
      "[7513 rows x 11 columns]\n"
     ]
    }
   ],
   "source": [
    "# Check for duplicate values in the dataset\n",
    "# Check for duplicate Order IDs\n",
    "duplicate_order_ids = sales_data[sales_data['Order ID'].duplicated()]\n",
    "\n",
    "if duplicate_order_ids.empty:\n",
    "    print(\"There are no duplicate Order IDs.\")\n",
    "else:\n",
    "    print(\"Duplicate Order IDs:\")\n",
    "    print(duplicate_order_ids)\n"
   ]
  },
  {
   "cell_type": "code",
   "execution_count": 32,
   "id": "44e210b9",
   "metadata": {},
   "outputs": [],
   "source": [
    "# Drop the duplicate data\n",
    "\n",
    "sales_data.drop_duplicates(subset='Order ID', inplace=True)\n",
    "\n"
   ]
  },
  {
   "cell_type": "code",
   "execution_count": 33,
   "id": "05472c23",
   "metadata": {},
   "outputs": [
    {
     "data": {
      "text/plain": [
       "(178437, 11)"
      ]
     },
     "execution_count": 33,
     "metadata": {},
     "output_type": "execute_result"
    }
   ],
   "source": [
    "sales_data.shape"
   ]
  },
  {
   "cell_type": "markdown",
   "id": "3618d960",
   "metadata": {},
   "source": [
    "# Data Exploration"
   ]
  },
  {
   "cell_type": "markdown",
   "id": "69618c11",
   "metadata": {},
   "source": [
    "#### What are the total Orders from January to December and Sales?"
   ]
  },
  {
   "cell_type": "code",
   "execution_count": 34,
   "id": "4df81d80",
   "metadata": {},
   "outputs": [
    {
     "name": "stdout",
     "output_type": "stream",
     "text": [
      "178437\n",
      "33671599.46999999\n"
     ]
    }
   ],
   "source": [
    "\n",
    "total_orders = sales_data['Order ID'].count()\n",
    "sum_of_sales = sales_data['Sales'].sum()\n",
    "\n",
    "print(total_orders)\n",
    "print(sum_of_sales)\n"
   ]
  },
  {
   "cell_type": "markdown",
   "id": "425d0d5d",
   "metadata": {},
   "source": [
    "#### How many Product types were sold?"
   ]
  },
  {
   "cell_type": "code",
   "execution_count": 35,
   "id": "3e37f2f5",
   "metadata": {},
   "outputs": [
    {
     "name": "stdout",
     "output_type": "stream",
     "text": [
      "19\n",
      "['iPhone' 'Lightning Charging Cable' 'Wired Headphones' '27in FHD Monitor'\n",
      " 'AAA Batteries (4-pack)' '27in 4K Gaming Monitor' 'USB-C Charging Cable'\n",
      " 'Bose SoundSport Headphones' 'Apple Airpods Headphones'\n",
      " 'Macbook Pro Laptop' 'Flatscreen TV' 'Vareebadd Phone'\n",
      " 'AA Batteries (4-pack)' 'Google Phone' '20in Monitor'\n",
      " '34in Ultrawide Monitor' 'ThinkPad Laptop' 'LG Dryer'\n",
      " 'LG Washing Machine']\n"
     ]
    }
   ],
   "source": [
    "product_count = sales_data['Product'].nunique()\n",
    "\n",
    "product_name = sales_data['Product'].unique()\n",
    "\n",
    "print(product_count)\n",
    "print(product_name)\n"
   ]
  },
  {
   "cell_type": "markdown",
   "id": "7a6ff184",
   "metadata": {},
   "source": [
    "#### What is the monthly breakdown for the total orders and sales"
   ]
  },
  {
   "cell_type": "code",
   "execution_count": 36,
   "id": "0b305c1b",
   "metadata": {},
   "outputs": [
    {
     "data": {
      "text/html": [
       "<div>\n",
       "<style scoped>\n",
       "    .dataframe tbody tr th:only-of-type {\n",
       "        vertical-align: middle;\n",
       "    }\n",
       "\n",
       "    .dataframe tbody tr th {\n",
       "        vertical-align: top;\n",
       "    }\n",
       "\n",
       "    .dataframe thead th {\n",
       "        text-align: right;\n",
       "    }\n",
       "</style>\n",
       "<table border=\"1\" class=\"dataframe\">\n",
       "  <thead>\n",
       "    <tr style=\"text-align: right;\">\n",
       "      <th></th>\n",
       "      <th>Order ID</th>\n",
       "      <th>Sales</th>\n",
       "    </tr>\n",
       "    <tr>\n",
       "      <th>Month</th>\n",
       "      <th></th>\n",
       "      <th></th>\n",
       "    </tr>\n",
       "  </thead>\n",
       "  <tbody>\n",
       "    <tr>\n",
       "      <th>1</th>\n",
       "      <td>9293</td>\n",
       "      <td>1782214.90</td>\n",
       "    </tr>\n",
       "    <tr>\n",
       "      <th>2</th>\n",
       "      <td>11496</td>\n",
       "      <td>2146232.20</td>\n",
       "    </tr>\n",
       "    <tr>\n",
       "      <th>3</th>\n",
       "      <td>14549</td>\n",
       "      <td>2739938.02</td>\n",
       "    </tr>\n",
       "    <tr>\n",
       "      <th>4</th>\n",
       "      <td>17528</td>\n",
       "      <td>3308277.50</td>\n",
       "    </tr>\n",
       "    <tr>\n",
       "      <th>5</th>\n",
       "      <td>15836</td>\n",
       "      <td>3075410.70</td>\n",
       "    </tr>\n",
       "    <tr>\n",
       "      <th>6</th>\n",
       "      <td>12989</td>\n",
       "      <td>2516633.11</td>\n",
       "    </tr>\n",
       "    <tr>\n",
       "      <th>7</th>\n",
       "      <td>13761</td>\n",
       "      <td>2584388.35</td>\n",
       "    </tr>\n",
       "    <tr>\n",
       "      <th>8</th>\n",
       "      <td>11484</td>\n",
       "      <td>2192824.44</td>\n",
       "    </tr>\n",
       "    <tr>\n",
       "      <th>9</th>\n",
       "      <td>11202</td>\n",
       "      <td>2048845.16</td>\n",
       "    </tr>\n",
       "    <tr>\n",
       "      <th>10</th>\n",
       "      <td>19436</td>\n",
       "      <td>3651082.99</td>\n",
       "    </tr>\n",
       "    <tr>\n",
       "      <th>11</th>\n",
       "      <td>16859</td>\n",
       "      <td>3120487.12</td>\n",
       "    </tr>\n",
       "    <tr>\n",
       "      <th>12</th>\n",
       "      <td>24004</td>\n",
       "      <td>4505264.98</td>\n",
       "    </tr>\n",
       "  </tbody>\n",
       "</table>\n",
       "</div>"
      ],
      "text/plain": [
       "       Order ID       Sales\n",
       "Month                      \n",
       "1          9293  1782214.90\n",
       "2         11496  2146232.20\n",
       "3         14549  2739938.02\n",
       "4         17528  3308277.50\n",
       "5         15836  3075410.70\n",
       "6         12989  2516633.11\n",
       "7         13761  2584388.35\n",
       "8         11484  2192824.44\n",
       "9         11202  2048845.16\n",
       "10        19436  3651082.99\n",
       "11        16859  3120487.12\n",
       "12        24004  4505264.98"
      ]
     },
     "execution_count": 36,
     "metadata": {},
     "output_type": "execute_result"
    }
   ],
   "source": [
    "\n",
    "sales_data.groupby('Month').agg({'Order ID':'count', 'Sales':'sum'})\n",
    "\n"
   ]
  },
  {
   "cell_type": "markdown",
   "id": "020049e1",
   "metadata": {},
   "source": [
    "#### Plot to show monthly distribution of the orders and sales"
   ]
  },
  {
   "cell_type": "code",
   "execution_count": 37,
   "id": "3e7fee28",
   "metadata": {},
   "outputs": [
    {
     "name": "stdout",
     "output_type": "stream",
     "text": [
      "range(1, 13)\n"
     ]
    },
    {
     "data": {
      "image/png": "[encoded data removed]",
      "text/plain": [
       "<Figure size 432x288 with 1 Axes>"
      ]
     },
     "metadata": {
      "needs_background": "light"
     },
     "output_type": "display_data"
    }
   ],
   "source": [
    "months = range(1,13)\n",
    "print(months)\n",
    "\n",
    "plt.bar(months,sales_data.groupby(['Month']).sum()['Sales'])\n",
    "plt.xticks(months)\n",
    "plt.ylabel('Sales in USD ($)')\n",
    "plt.xlabel('Month number')\n",
    "plt.ticklabel_format(style = 'plain')\n",
    "plt.show()"
   ]
  },
  {
   "cell_type": "markdown",
   "id": "a8073f0b",
   "metadata": {},
   "source": [
    "#### What City sold the most product?"
   ]
  },
  {
   "cell_type": "code",
   "execution_count": 38,
   "id": "bd6af9db",
   "metadata": {},
   "outputs": [
    {
     "data": {
      "text/html": [
       "<div>\n",
       "<style scoped>\n",
       "    .dataframe tbody tr th:only-of-type {\n",
       "        vertical-align: middle;\n",
       "    }\n",
       "\n",
       "    .dataframe tbody tr th {\n",
       "        vertical-align: top;\n",
       "    }\n",
       "\n",
       "    .dataframe thead th {\n",
       "        text-align: right;\n",
       "    }\n",
       "</style>\n",
       "<table border=\"1\" class=\"dataframe\">\n",
       "  <thead>\n",
       "    <tr style=\"text-align: right;\">\n",
       "      <th></th>\n",
       "      <th>Order ID</th>\n",
       "      <th>Sales</th>\n",
       "    </tr>\n",
       "    <tr>\n",
       "      <th>City</th>\n",
       "      <th></th>\n",
       "      <th></th>\n",
       "    </tr>\n",
       "  </thead>\n",
       "  <tbody>\n",
       "    <tr>\n",
       "      <th>Atlanta</th>\n",
       "      <td>14253</td>\n",
       "      <td>2721689.32</td>\n",
       "    </tr>\n",
       "    <tr>\n",
       "      <th>Austin</th>\n",
       "      <td>9509</td>\n",
       "      <td>1787851.98</td>\n",
       "    </tr>\n",
       "    <tr>\n",
       "      <th>Boston</th>\n",
       "      <td>19092</td>\n",
       "      <td>3576754.73</td>\n",
       "    </tr>\n",
       "    <tr>\n",
       "      <th>Dallas</th>\n",
       "      <td>14240</td>\n",
       "      <td>2702230.45</td>\n",
       "    </tr>\n",
       "    <tr>\n",
       "      <th>Los Angeles</th>\n",
       "      <td>28498</td>\n",
       "      <td>5310846.93</td>\n",
       "    </tr>\n",
       "    <tr>\n",
       "      <th>New York City</th>\n",
       "      <td>23848</td>\n",
       "      <td>4567165.01</td>\n",
       "    </tr>\n",
       "    <tr>\n",
       "      <th>Portland</th>\n",
       "      <td>11980</td>\n",
       "      <td>2267084.04</td>\n",
       "    </tr>\n",
       "    <tr>\n",
       "      <th>San Francisco</th>\n",
       "      <td>42898</td>\n",
       "      <td>8055046.60</td>\n",
       "    </tr>\n",
       "    <tr>\n",
       "      <th>Seattle</th>\n",
       "      <td>14119</td>\n",
       "      <td>2682930.41</td>\n",
       "    </tr>\n",
       "  </tbody>\n",
       "</table>\n",
       "</div>"
      ],
      "text/plain": [
       "                Order ID       Sales\n",
       "City                                \n",
       " Atlanta           14253  2721689.32\n",
       " Austin             9509  1787851.98\n",
       " Boston            19092  3576754.73\n",
       " Dallas            14240  2702230.45\n",
       " Los Angeles       28498  5310846.93\n",
       " New York City     23848  4567165.01\n",
       " Portland          11980  2267084.04\n",
       " San Francisco     42898  8055046.60\n",
       " Seattle           14119  2682930.41"
      ]
     },
     "execution_count": 38,
     "metadata": {},
     "output_type": "execute_result"
    }
   ],
   "source": [
    "sales_data.groupby('City').agg({'Order ID':'count', 'Sales':'sum'})\n"
   ]
  },
  {
   "cell_type": "code",
   "execution_count": 39,
   "id": "f5fa5e60",
   "metadata": {},
   "outputs": [
    {
     "data": {
      "image/png": "[encoded data removed]",
      "text/plain": [
       "<Figure size 432x288 with 1 Axes>"
      ]
     },
     "metadata": {
      "needs_background": "light"
     },
     "output_type": "display_data"
    }
   ],
   "source": [
    "\n",
    "keys = [city for city, df in sales_data.groupby(['City'])]\n",
    "\n",
    "plt.bar(keys,sales_data.groupby(['City']).sum()['Sales'])\n",
    "plt.ylabel('Sales in USD ($)')\n",
    "plt.xlabel('City')\n",
    "plt.xticks(keys, rotation='vertical', size=8)\n",
    "plt.ticklabel_format(style = 'plain', axis = 'y')\n",
    "\n",
    "plt.show()"
   ]
  },
  {
   "cell_type": "markdown",
   "id": "00c4bc00",
   "metadata": {},
   "source": [
    "#### How do sales perform throughout the hours of the day?"
   ]
  },
  {
   "cell_type": "code",
   "execution_count": 40,
   "id": "f997b069",
   "metadata": {},
   "outputs": [
    {
     "data": {
      "text/html": [
       "<div>\n",
       "<style scoped>\n",
       "    .dataframe tbody tr th:only-of-type {\n",
       "        vertical-align: middle;\n",
       "    }\n",
       "\n",
       "    .dataframe tbody tr th {\n",
       "        vertical-align: top;\n",
       "    }\n",
       "\n",
       "    .dataframe thead th {\n",
       "        text-align: right;\n",
       "    }\n",
       "</style>\n",
       "<table border=\"1\" class=\"dataframe\">\n",
       "  <thead>\n",
       "    <tr style=\"text-align: right;\">\n",
       "      <th></th>\n",
       "      <th>Order ID</th>\n",
       "      <th>Product</th>\n",
       "      <th>Quantity Ordered</th>\n",
       "      <th>Price Each</th>\n",
       "      <th>Order Date</th>\n",
       "      <th>Purchase Address</th>\n",
       "      <th>Total Amount</th>\n",
       "      <th>Sales</th>\n",
       "      <th>Day_of_Week</th>\n",
       "      <th>Month</th>\n",
       "      <th>City</th>\n",
       "      <th>Hour</th>\n",
       "      <th>Minute</th>\n",
       "      <th>Count</th>\n",
       "    </tr>\n",
       "  </thead>\n",
       "  <tbody>\n",
       "    <tr>\n",
       "      <th>0</th>\n",
       "      <td>141234</td>\n",
       "      <td>iPhone</td>\n",
       "      <td>1</td>\n",
       "      <td>700.00</td>\n",
       "      <td>2019-01-22 21:25:00</td>\n",
       "      <td>944 Walnut St, Boston, MA 02215</td>\n",
       "      <td>700.00</td>\n",
       "      <td>700.00</td>\n",
       "      <td>Tuesday</td>\n",
       "      <td>1</td>\n",
       "      <td>Boston</td>\n",
       "      <td>21</td>\n",
       "      <td>25</td>\n",
       "      <td>1</td>\n",
       "    </tr>\n",
       "    <tr>\n",
       "      <th>1</th>\n",
       "      <td>141235</td>\n",
       "      <td>Lightning Charging Cable</td>\n",
       "      <td>1</td>\n",
       "      <td>14.95</td>\n",
       "      <td>2019-01-28 14:15:00</td>\n",
       "      <td>185 Maple St, Portland, OR 97035</td>\n",
       "      <td>14.95</td>\n",
       "      <td>14.95</td>\n",
       "      <td>Monday</td>\n",
       "      <td>1</td>\n",
       "      <td>Portland</td>\n",
       "      <td>14</td>\n",
       "      <td>15</td>\n",
       "      <td>1</td>\n",
       "    </tr>\n",
       "    <tr>\n",
       "      <th>2</th>\n",
       "      <td>141236</td>\n",
       "      <td>Wired Headphones</td>\n",
       "      <td>2</td>\n",
       "      <td>11.99</td>\n",
       "      <td>2019-01-17 13:33:00</td>\n",
       "      <td>538 Adams St, San Francisco, CA 94016</td>\n",
       "      <td>23.98</td>\n",
       "      <td>23.98</td>\n",
       "      <td>Thursday</td>\n",
       "      <td>1</td>\n",
       "      <td>San Francisco</td>\n",
       "      <td>13</td>\n",
       "      <td>33</td>\n",
       "      <td>1</td>\n",
       "    </tr>\n",
       "    <tr>\n",
       "      <th>3</th>\n",
       "      <td>141237</td>\n",
       "      <td>27in FHD Monitor</td>\n",
       "      <td>1</td>\n",
       "      <td>149.99</td>\n",
       "      <td>2019-01-05 20:33:00</td>\n",
       "      <td>738 10th St, Los Angeles, CA 90001</td>\n",
       "      <td>149.99</td>\n",
       "      <td>149.99</td>\n",
       "      <td>Saturday</td>\n",
       "      <td>1</td>\n",
       "      <td>Los Angeles</td>\n",
       "      <td>20</td>\n",
       "      <td>33</td>\n",
       "      <td>1</td>\n",
       "    </tr>\n",
       "    <tr>\n",
       "      <th>4</th>\n",
       "      <td>141238</td>\n",
       "      <td>Wired Headphones</td>\n",
       "      <td>1</td>\n",
       "      <td>11.99</td>\n",
       "      <td>2019-01-25 11:59:00</td>\n",
       "      <td>387 10th St, Austin, TX 73301</td>\n",
       "      <td>11.99</td>\n",
       "      <td>11.99</td>\n",
       "      <td>Friday</td>\n",
       "      <td>1</td>\n",
       "      <td>Austin</td>\n",
       "      <td>11</td>\n",
       "      <td>59</td>\n",
       "      <td>1</td>\n",
       "    </tr>\n",
       "  </tbody>\n",
       "</table>\n",
       "</div>"
      ],
      "text/plain": [
       "   Order ID                   Product  Quantity Ordered  Price Each  \\\n",
       "0    141234                    iPhone                 1      700.00   \n",
       "1    141235  Lightning Charging Cable                 1       14.95   \n",
       "2    141236          Wired Headphones                 2       11.99   \n",
       "3    141237          27in FHD Monitor                 1      149.99   \n",
       "4    141238          Wired Headphones                 1       11.99   \n",
       "\n",
       "           Order Date                       Purchase Address  Total Amount  \\\n",
       "0 2019-01-22 21:25:00        944 Walnut St, Boston, MA 02215        700.00   \n",
       "1 2019-01-28 14:15:00       185 Maple St, Portland, OR 97035         14.95   \n",
       "2 2019-01-17 13:33:00  538 Adams St, San Francisco, CA 94016         23.98   \n",
       "3 2019-01-05 20:33:00     738 10th St, Los Angeles, CA 90001        149.99   \n",
       "4 2019-01-25 11:59:00          387 10th St, Austin, TX 73301         11.99   \n",
       "\n",
       "    Sales Day_of_Week Month            City  Hour  Minute  Count  \n",
       "0  700.00     Tuesday     1          Boston    21      25      1  \n",
       "1   14.95      Monday     1        Portland    14      15      1  \n",
       "2   23.98    Thursday     1   San Francisco    13      33      1  \n",
       "3  149.99    Saturday     1     Los Angeles    20      33      1  \n",
       "4   11.99      Friday     1          Austin    11      59      1  "
      ]
     },
     "execution_count": 40,
     "metadata": {},
     "output_type": "execute_result"
    }
   ],
   "source": [
    "# Add hour column in the dataframe from the Order Date Column\n",
    "sales_data['Hour'] = pd.to_datetime(sales_data['Order Date']).dt.hour\n",
    "sales_data['Minute'] = pd.to_datetime(sales_data['Order Date']).dt.minute\n",
    "sales_data['Count'] = 1\n",
    "sales_data.head()"
   ]
  },
  {
   "cell_type": "code",
   "execution_count": 41,
   "id": "55ffb2c8",
   "metadata": {},
   "outputs": [
    {
     "data": {
      "image/png": "[encoded data removed]",
      "text/plain": [
       "<Figure size 432x288 with 1 Axes>"
      ]
     },
     "metadata": {
      "needs_background": "light"
     },
     "output_type": "display_data"
    }
   ],
   "source": [
    "# Show sales distribution before \n",
    "# Group data by Order Hour and count unique Order ID\n",
    "hourly_orders = sales_data.groupby('Hour')['Order ID'].nunique()\n",
    "\n",
    "# Create line plot\n",
    "plt.plot(hourly_orders.index, hourly_orders.values)\n",
    "plt.xlabel('Hour')\n",
    "plt.ylabel('Count of Order ID')\n",
    "plt.title('Distribution of Order ID Count Through Hours')\n",
    "plt.xticks(range(24))\n",
    "plt.show()\n",
    "\n",
    "\n",
    "# The best time to market products through advertisements and promotions would be when the orders are steadily increasing, to take maximize on the already increasing order numbers,so between 0900 hours to 1200 hours and between 1700 hours to 1900 hours "
   ]
  },
  {
   "cell_type": "markdown",
   "id": "8466bee9",
   "metadata": {},
   "source": [
    "#### What was the total orders versus total sales per Product?"
   ]
  },
  {
   "cell_type": "code",
   "execution_count": 74,
   "id": "ed71119c",
   "metadata": {},
   "outputs": [
    {
     "data": {
      "text/plain": [
       "Product\n",
       "20in Monitor                   4022\n",
       "27in 4K Gaming Monitor         6104\n",
       "27in FHD Monitor               7352\n",
       "34in Ultrawide Monitor         6056\n",
       "AA Batteries (4-pack)         20205\n",
       "AAA Batteries (4-pack)        20223\n",
       "Apple Airpods Headphones      14910\n",
       "Bose SoundSport Headphones    12767\n",
       "Flatscreen TV                  4701\n",
       "Google Phone                   5416\n",
       "LG Dryer                        633\n",
       "LG Washing Machine              653\n",
       "Lightning Charging Cable      20252\n",
       "Macbook Pro Laptop             4624\n",
       "ThinkPad Laptop                4036\n",
       "USB-C Charging Cable          20174\n",
       "Vareebadd Phone                2027\n",
       "Wired Headphones              17560\n",
       "iPhone                         6722\n",
       "Name: Order ID, dtype: int64"
      ]
     },
     "execution_count": 74,
     "metadata": {},
     "output_type": "execute_result"
    }
   ],
   "source": [
    "# Calculate total orders (Order IDs) per Product throughout the year\n",
    "\n",
    "sales_per_item = sales_data.groupby('Product')['Order ID'].count()\n",
    "sales_per_item = sales_per_item.sort_index()\n",
    "sales_per_item"
   ]
  },
  {
   "cell_type": "code",
   "execution_count": 75,
   "id": "0636afb8",
   "metadata": {},
   "outputs": [
    {
     "data": {
      "text/plain": [
       "Product\n",
       "20in Monitor                   445349.51\n",
       "27in 4K Gaming Monitor        2385958.82\n",
       "27in FHD Monitor              1108876.07\n",
       "34in Ultrawide Monitor        2307679.27\n",
       "AA Batteries (4-pack)          104202.24\n",
       "AAA Batteries (4-pack)          90812.28\n",
       "Apple Airpods Headphones      2252400.00\n",
       "Bose SoundSport Headphones    1289271.06\n",
       "Flatscreen TV                 1415700.00\n",
       "Google Phone                  3253800.00\n",
       "LG Dryer                       379800.00\n",
       "LG Washing Machine             391800.00\n",
       "Lightning Charging Cable       324639.25\n",
       "Macbook Pro Laptop            7867600.00\n",
       "ThinkPad Laptop               4037959.62\n",
       "USB-C Charging Cable           264202.55\n",
       "Vareebadd Phone                812000.00\n",
       "Wired Headphones               229248.80\n",
       "iPhone                        4710300.00\n",
       "Name: Sales, dtype: float64"
      ]
     },
     "execution_count": 75,
     "metadata": {},
     "output_type": "execute_result"
    }
   ],
   "source": [
    "# Calculate total sales per Product throughout the year\n",
    "\n",
    "sales_per_item = sales_data.groupby('Product')['Sales'].sum()\n",
    "sales_per_item = sales_per_item.sort_index()\n",
    "sales_per_item"
   ]
  },
  {
   "cell_type": "markdown",
   "id": "305ae3c0",
   "metadata": {},
   "source": [
    "#### Plot to show total orders versus total sales per Product"
   ]
  },
  {
   "cell_type": "code",
   "execution_count": 80,
   "id": "7b348cec",
   "metadata": {},
   "outputs": [
    {
     "data": {
      "image/png": "[encoded data removed]",
      "text/plain": [
       "<Figure size 864x576 with 2 Axes>"
      ]
     },
     "metadata": {
      "needs_background": "light"
     },
     "output_type": "display_data"
    }
   ],
   "source": [
    "# Plot a combined bar and line graph to show total orders versus total sales per Product\n",
    "\n",
    "sales_per_item = sales_data.groupby('Product')['Order ID'].count()\n",
    "sales_per_item = sales_per_item.sort_index()\n",
    "\n",
    "sales_per_item_sales = sales_data.groupby('Product')['Sales'].sum()\n",
    "sales_per_item_sales = sales_per_item_sales.sort_index()\n",
    "\n",
    "fig, ax = plt.subplots(figsize=(12, 8))\n",
    "\n",
    "ax.bar(sales_per_item_sales.index, sales_per_item_sales.values, color='b', label='Total Sales')\n",
    "ax2 = ax.twinx()\n",
    "ax2.plot(sales_per_item.index, sales_per_item.values, color='r', label='Number of Orders')\n",
    "\n",
    "ax.set_xlabel('Product')\n",
    "ax.set_ylabel('Total Sales')\n",
    "ax2.set_ylabel('Number of Orders')\n",
    "\n",
    "# plt.xticks(rotation=90)\n",
    "plt.ticklabel_format(style = 'plain', axis = 'y')\n",
    "plt.tight_layout()\n",
    "plt.setp(ax.get_xticklabels(), rotation = 30, horizontalalignment='right', fontsize='small')\n",
    "\n",
    "\n",
    "plt.show()"
   ]
  },
  {
   "cell_type": "markdown",
   "id": "5cf5b39f",
   "metadata": {},
   "source": [
    "#### How does price compare with the total order and total sales generated from each Product?"
   ]
  },
  {
   "cell_type": "code",
   "execution_count": 83,
   "id": "b373a4b1",
   "metadata": {},
   "outputs": [
    {
     "data": {
      "image/png": "[encoded data removed]",
      "text/plain": [
       "<Figure size 864x576 with 2 Axes>"
      ]
     },
     "metadata": {
      "needs_background": "light"
     },
     "output_type": "display_data"
    }
   ],
   "source": [
    "sales_per_item = sales_data.groupby('Product')['Price Each'].unique()\n",
    "sales_per_item = sales_per_item.sort_index()\n",
    "\n",
    "sales_per_item_sales = sales_data.groupby('Product')['Sales'].sum()\n",
    "sales_per_item_sales = sales_per_item_sales.sort_index()\n",
    "\n",
    "fig, ax = plt.subplots(figsize=(12, 8))\n",
    "\n",
    "ax.bar(sales_per_item_sales.index, sales_per_item_sales.values, color='b', label='Total Sales')\n",
    "ax2 = ax.twinx()\n",
    "ax2.plot(sales_per_item.index, sales_per_item.values, color='r', label='Price Each')\n",
    "\n",
    "ax.set_xlabel('Product')\n",
    "ax.set_ylabel('Total Sales')\n",
    "ax2.set_ylabel('Price per Product')\n",
    "\n",
    "# plt.xticks(rotation=90)\n",
    "plt.ticklabel_format(style = 'plain', axis = 'y')\n",
    "plt.tight_layout()\n",
    "plt.setp(ax.get_xticklabels(), rotation = 30, horizontalalignment='right', fontsize='small')\n",
    "\n",
    "\n",
    "plt.show()"
   ]
  },
  {
   "cell_type": "code",
   "execution_count": 84,
   "id": "21547f4a",
   "metadata": {},
   "outputs": [
    {
     "data": {
      "image/png": "[encoded data removed]",
      "text/plain": [
       "<Figure size 864x576 with 2 Axes>"
      ]
     },
     "metadata": {
      "needs_background": "light"
     },
     "output_type": "display_data"
    }
   ],
   "source": [
    "sales_per_item = sales_data.groupby('Product')['Price Each'].unique()\n",
    "sales_per_item = sales_per_item.sort_index()\n",
    "\n",
    "sales_per_item_sales = sales_data.groupby('Product')['Order ID'].count()\n",
    "sales_per_item_sales = sales_per_item_sales.sort_index()\n",
    "\n",
    "fig, ax = plt.subplots(figsize=(12, 8))\n",
    "\n",
    "ax.bar(sales_per_item_sales.index, sales_per_item_sales.values, color='b', label='Total Sales')\n",
    "ax2 = ax.twinx()\n",
    "ax2.plot(sales_per_item.index, sales_per_item.values, color='r', label='Price Each')\n",
    "\n",
    "ax.set_xlabel('Product')\n",
    "ax.set_ylabel('Total Orders')\n",
    "ax2.set_ylabel('Price per Product')\n",
    "\n",
    "# plt.xticks(rotation=90)\n",
    "plt.ticklabel_format(style = 'plain', axis = 'y')\n",
    "plt.tight_layout()\n",
    "plt.setp(ax.get_xticklabels(), rotation = 30, horizontalalignment='right', fontsize='small')\n",
    "\n",
    "\n",
    "plt.show()"
   ]
  },
  {
   "cell_type": "markdown",
   "id": "b0120614",
   "metadata": {},
   "source": [
    "The above plots comparing Price per product versus Sales generated from each product and Price per product versus Total orders per Product show that the most expensive products generated most sales despite having less ordered quantities as compared to the cheaper products.\n",
    "This means that the company should prioritize on increasing sales of the cheaper products by complementing these products with others that go along/might need to use the cheaper products\n",
    "\n"
   ]
  },
  {
   "cell_type": "code",
   "execution_count": 86,
   "id": "6cd96ad5",
   "metadata": {},
   "outputs": [],
   "source": []
  },
  {
   "cell_type": "code",
   "execution_count": null,
   "id": "e9b6527f",
   "metadata": {},
   "outputs": [],
   "source": []
  }
 ],
 "metadata": {
  "kernelspec": {
   "display_name": "Python 3 (ipykernel)",
   "language": "python",
   "name": "python3"
  },
  "language_info": {
   "codemirror_mode": {
    "name": "ipython",
    "version": 3
   },
   "file_extension": ".py",
   "mimetype": "text/x-python",
   "name": "python",
   "nbconvert_exporter": "python",
   "pygments_lexer": "ipython3",
   "version": "3.9.7"
  }
 },
 "nbformat": 4,
 "nbformat_minor": 5
}
